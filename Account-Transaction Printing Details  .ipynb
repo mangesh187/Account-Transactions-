{
 "cells": [
  {
   "cell_type": "code",
   "execution_count": 1,
   "metadata": {},
   "outputs": [],
   "source": [
    "import datetime\n",
    "import pytz"
   ]
  },
  {
   "cell_type": "code",
   "execution_count": 2,
   "metadata": {},
   "outputs": [],
   "source": [
    "class Account:\n",
    "\n",
    "  @staticmethod\n",
    "\n",
    "  def _current_time():\n",
    "    utc_time = datetime.datetime.utcnow()\n",
    "    return pytz.utc.localize(utc_time)\n",
    "\n",
    "  def __init__(self, name, balance):\n",
    "    self.name = name\n",
    "    self.balance = balance\n",
    "    self.transaction_list = []\n",
    "    print(\"Account created for \" + self.name)\n",
    "\n",
    "  def deposit(self,amount):\n",
    "    if amount >0 :\n",
    "      self.balance += amount\n",
    "      self.show_balance()\n",
    "      self.transaction_list.append((Account._current_time(),amount))\n",
    "\n",
    "  def withdraw(self,amount):\n",
    "    if 0 < amount <= self.balance:\n",
    "      self.balance -= amount\n",
    "      self.transaction_list.append((Account._current_time(),-amount))\n",
    "    else:\n",
    "      print(\"Balance is low\")\n",
    "    self.show_balance()\n",
    "    \n",
    "  def show_balance(self):\n",
    "    print(\"Balance is {} \".format(self.balance))\n",
    "\n",
    "  def show_transaction(self):\n",
    "    for date, amount in self.transaction_list:\n",
    "      if amount > 0:\n",
    "        tran_type = \"deposited\"\n",
    "      else:\n",
    "        tran_type = \"withdraw\"\n",
    "        amount *= -1\n",
    "      print(\"{:5} {} on {} (local time was {})\".format(amount, tran_type , date, date.astimezone()))"
   ]
  },
  {
   "cell_type": "code",
   "execution_count": 3,
   "metadata": {},
   "outputs": [
    {
     "name": "stdout",
     "output_type": "stream",
     "text": [
      "Account created for Parth\n",
      "Balance is 1500 \n",
      "Balance is 900 \n",
      " 1500 deposited on 2020-08-01 02:02:18.620988+00:00 (local time was 2020-08-01 07:32:18.620988+05:30)\n",
      "  600 withdraw on 2020-08-01 02:02:18.621005+00:00 (local time was 2020-08-01 07:32:18.621005+05:30)\n"
     ]
    }
   ],
   "source": [
    "if __name__ == '__main__':\n",
    "  \n",
    "  Parth = Account(\"Parth\",0)  \n",
    "  Parth.deposit(1500)\n",
    "  Parth.withdraw(600)\n",
    "  Parth.show_transaction()\n",
    "  "
   ]
  },
  {
   "cell_type": "code",
   "execution_count": null,
   "metadata": {},
   "outputs": [],
   "source": []
  }
 ],
 "metadata": {
  "kernelspec": {
   "display_name": "Python 3",
   "language": "python",
   "name": "python3"
  },
  "language_info": {
   "codemirror_mode": {
    "name": "ipython",
    "version": 3
   },
   "file_extension": ".py",
   "mimetype": "text/x-python",
   "name": "python",
   "nbconvert_exporter": "python",
   "pygments_lexer": "ipython3",
   "version": "3.8.5"
  }
 },
 "nbformat": 4,
 "nbformat_minor": 4
}
